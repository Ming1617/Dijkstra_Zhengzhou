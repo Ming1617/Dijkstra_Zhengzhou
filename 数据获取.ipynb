{
 "cells": [
  {
   "cell_type": "code",
   "execution_count": 1,
   "metadata": {},
   "outputs": [],
   "source": [
    "import requests\n",
    "from bs4 import BeautifulSoup\n",
    "import pandas as pd\n",
    "def spyder():\n",
    "    #获得郑州的地铁信息\n",
    "    url='http://zz.bendibao.com/ditie/linemap.shtml'\n",
    "    headers={'User-Agent':'Mozilla/5.0 (Windows NT 10.0; WOW64) AppleWebKit/537.36 (KHTML, like Gecko) Chrome/70.0.3538.25 Safari/537.36 Core/1.70.3861.400 QQBrowser/10.7.4313.400'}\n",
    "    r=requests.get(url,headers=headers)\n",
    "    r.encoding=r.apparent_encoding\n",
    "    soup=BeautifulSoup(r.text,'lxml')\n",
    "    all_info=soup.find_all('div',class_='line-list')\n",
    "    df=pd.DataFrame(columns=['name','site'])\n",
    "    for info in all_info:\n",
    "        title=info.find_all('div',class_='wrap')[0].get_text().split()[0].replace('线路图','')\n",
    "        station_all=info.find_all('a',class_='link')\n",
    "        for station in station_all:\n",
    "            station_name=station.get_text()\n",
    "            temp={'name':station_name,'site':title}\n",
    "            df =df.append(temp,ignore_index=True)\n",
    "    df.to_excel('./subway.xlsx',index=False)"
   ]
  },
  {
   "cell_type": "code",
   "execution_count": 2,
   "metadata": {},
   "outputs": [],
   "source": [
    "spyder()"
   ]
  },
  {
   "cell_type": "code",
   "execution_count": null,
   "metadata": {},
   "outputs": [],
   "source": []
  }
 ],
 "metadata": {
  "kernelspec": {
   "display_name": "Python 3",
   "language": "python",
   "name": "python3"
  },
  "language_info": {
   "codemirror_mode": {
    "name": "ipython",
    "version": 3
   },
   "file_extension": ".py",
   "mimetype": "text/x-python",
   "name": "python",
   "nbconvert_exporter": "python",
   "pygments_lexer": "ipython3",
   "version": "3.7.4"
  }
 },
 "nbformat": 4,
 "nbformat_minor": 2
}
